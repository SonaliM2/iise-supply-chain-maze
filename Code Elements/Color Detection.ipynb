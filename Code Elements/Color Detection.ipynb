{
 "cells": [
  {
   "cell_type": "markdown",
   "id": "627c21a0-1e27-43b1-9426-221294771829",
   "metadata": {},
   "source": [
    "# Color Detection"
   ]
  },
  {
   "cell_type": "code",
   "execution_count": 2,
   "id": "de187874-2cf3-43f4-9268-73cf75333f1d",
   "metadata": {},
   "outputs": [],
   "source": [
    "import cv2\n",
    "import numpy as np\n",
    "# pip install Pillow\n",
    "    # open Anaconda Prompt and paste above line (without '#') to install package\n",
    "from PIL import Image"
   ]
  },
  {
   "cell_type": "code",
   "execution_count": 3,
   "id": "9b487a60-f366-4bdf-9917-7e3fb957551e",
   "metadata": {},
   "outputs": [],
   "source": [
    "# function that gives a range on hues given a color\n",
    "def get_limits(color):\n",
    "    c = np.uint8([[color]])\n",
    "    hsvC = cv2.cvtColor(c, cv2.COLOR_BGR2HSV)\n",
    "    \n",
    "    lowerLimit = hsvC[0][0][0] - 10, 100, 100\n",
    "    upperLimit = hsvC[0][0][0] + 10, 255, 255\n",
    "    # the +/-10 defines the range of hues that fall within the limits (the h in hsv)\n",
    "    # the range on saturation and value is much bigger because we are only looking for hue\n",
    "    \n",
    "    lowerLimit = np.array(lowerLimit, dtype=np.uint8)\n",
    "    upperLimit = np.array(upperLimit, dtype=np.uint8)\n",
    "\n",
    "    return lowerLimit, upperLimit"
   ]
  },
  {
   "cell_type": "code",
   "execution_count": 4,
   "id": "c527ce0e-4012-449d-8ed7-60cc52f2c426",
   "metadata": {},
   "outputs": [
    {
     "name": "stdout",
     "output_type": "stream",
     "text": [
      "280, 320, 280\n",
      "313, 322, 313\n",
      "369, 383, 369\n",
      "331, 331, 369\n",
      "349, 349, 375\n",
      "349, 372, 349\n",
      "365, 365, 406\n",
      "380, 386, 380\n",
      "356, 359, 356\n",
      "343, 358, 343\n",
      "350, 361, 350\n",
      "350, 351, 350\n",
      "350, 355, 350\n",
      "345, 350, 345\n",
      "346, 359, 346\n",
      "346, 357, 346\n",
      "347, 356, 347\n",
      "347, 354, 347\n",
      "344, 355, 344\n",
      "344, 355, 344\n",
      "343, 351, 343\n",
      "343, 346, 343\n",
      "343, 354, 343\n",
      "344, 354, 344\n",
      "346, 354, 346\n",
      "346, 361, 346\n",
      "346, 352, 346\n",
      "346, 352, 346\n",
      "346, 356, 346\n",
      "346, 354, 346\n",
      "328, 333, 328\n",
      "318, 329, 318\n",
      "318, 335, 318\n",
      "313, 325, 313\n",
      "313, 315, 313\n",
      "200, 200, 226\n",
      "193, 205, 193\n",
      "197, 211, 197\n",
      "201, 219, 201\n",
      "321, 327, 321\n",
      "386, 393, 386\n"
     ]
    }
   ],
   "source": [
    "color = [194, 137, 50] # color in BGR colorspace\n",
    "color = [0, 255, 255]\n",
    "\n",
    "first = False\n",
    "firstFrame = 0\n",
    "capture = cv2.VideoCapture(0)\n",
    "while True:\n",
    "    ret, frame = capture.read()\n",
    "    frame = cv2.flip(frame, 1)\n",
    "    \n",
    "    if (first == False):\n",
    "        firstFrame = frame\n",
    "    \n",
    "    frame_blur = cv2.GaussianBlur(frame, (11, 11), 9)\n",
    "    # blurring the image may help get the desired result, but it can be removed\n",
    "    \n",
    "    frame_hsv = cv2.cvtColor(frame_blur, cv2.COLOR_BGR2HSV) # convert to HSV\n",
    "    lowerLimit, upperLimit = get_limits(color) # range of hues that we want the software to detect\n",
    "    \n",
    "    mask = cv2.inRange(frame_hsv, lowerLimit, upperLimit) # detects objects in color range\n",
    "    contours, hierarchy = cv2.findContours(mask, cv2.RETR_TREE, cv2.CHAIN_APPROX_SIMPLE)\n",
    "    bboxes = list()\n",
    "    for cnt in contours:\n",
    "        if cv2.contourArea(cnt) > 100:  # only continues if size of the object is large enough (removes noise)\n",
    "            x1, y1, w, h = cv2.boundingRect(cnt)  # finds a bounding box for each object\n",
    "            c = list([int(x1 + w/2), int(y1 + h/2)])  # centerpoint of bbox\n",
    "            cv2.line(frame, (c[0], c[1]), (c[0], c[1]), (0, 255, 0), 3)\n",
    "            # check other bboxes to see if we want to combine them into 1 box\n",
    "            newBox = list([c[0], c[1], x1, y1, w, h])\n",
    "            for i in bboxes[:]:\n",
    "                cxi, cyi, x1i, y1i, wi, hi = i  # bbox we check the newBox against\n",
    "                if np.sqrt((c[0] - cxi)**2 + (c[1] - cyi)**2) < np.sqrt(w**2 + h**2)/3 + np.sqrt(wi**2 + hi**2)/3 + 25: # if centerpoints are close enough (scales with box size)\n",
    "                    bboxes.remove(i)\n",
    "                    # reassign bbox boundaries so the new box contains both nearby boxes\n",
    "                    print(f'{min(x1, x1i)}, {x1}, {x1i}')\n",
    "                    newBox[2], newBox[3] = min(x1, x1i), min(y1, y1i)  # reassigns x1 and y1 values\n",
    "                    newBox[4], newBox[5] = max(x1+w, x1i+wi) - newBox[2], max(y1+h, y1i+hi) - newBox[3]  # reassgins w and h values\n",
    "                    newBox[0], newBox[1] = int(newBox[2] + newBox[4]/2), int(newBox[3] + newBox[5]/2)  # reassigns centerpoint values\n",
    "            bboxes.append(newBox)\n",
    "                \n",
    "    for i in bboxes:  # draws bboxes after we have curated the list\n",
    "        cx, cy, x1, y1, w, h = i\n",
    "        cv2.rectangle(frame, (x1, y1), (x1 + w, y1 + h), (0, 0, 255), 2)\n",
    "        cv2.line(frame, (cx, cy), (cx, cy), (255, 0, 0), 5)\n",
    "    \n",
    "    cv2.imshow('blur', frame_blur)\n",
    "    cv2.imshow('mask', mask)\n",
    "    cv2.imshow('webcam', frame)\n",
    "    if cv2.waitKey(40) & 0xFF == ord(' '):\n",
    "        break  # ends loop when spacebar is pressed\n",
    "\n",
    "capture.release()\n",
    "cv2.destroyAllWindows()  # closes window, only reaches here when spacebar is pressed"
   ]
  },
  {
   "cell_type": "code",
   "execution_count": null,
   "id": "0c19ad28-2014-40ad-aac0-d7728804226d",
   "metadata": {},
   "outputs": [],
   "source": []
  },
  {
   "cell_type": "code",
   "execution_count": null,
   "id": "48d298af-1a49-4722-a2e6-779202c3b013",
   "metadata": {},
   "outputs": [],
   "source": []
  }
 ],
 "metadata": {
  "kernelspec": {
   "display_name": "Python 3 (ipykernel)",
   "language": "python",
   "name": "python3"
  },
  "language_info": {
   "codemirror_mode": {
    "name": "ipython",
    "version": 3
   },
   "file_extension": ".py",
   "mimetype": "text/x-python",
   "name": "python",
   "nbconvert_exporter": "python",
   "pygments_lexer": "ipython3",
   "version": "3.12.4"
  }
 },
 "nbformat": 4,
 "nbformat_minor": 5
}
