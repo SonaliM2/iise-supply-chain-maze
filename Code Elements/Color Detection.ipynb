{
 "cells": [
  {
   "cell_type": "markdown",
   "id": "627c21a0-1e27-43b1-9426-221294771829",
   "metadata": {},
   "source": [
    "# Color Detection"
   ]
  },
  {
   "cell_type": "code",
   "execution_count": 1,
   "id": "de187874-2cf3-43f4-9268-73cf75333f1d",
   "metadata": {},
   "outputs": [],
   "source": [
    "import cv2\n",
    "import numpy as np\n",
    "# pip install Pillow\n",
    "from PIL import Image"
   ]
  },
  {
   "cell_type": "code",
   "execution_count": 3,
   "id": "9b487a60-f366-4bdf-9917-7e3fb957551e",
   "metadata": {},
   "outputs": [],
   "source": [
    "# function that gives a range on hues given a color\n",
    "def get_limits(color):\n",
    "    c = np.uint8([[color]])\n",
    "    hsvC = cv2.cvtColor(c, cv2.COLOR_BGR2HSV)\n",
    "    \n",
    "    lowerLimit = hsvC[0][0][0] - 10, 100, 100\n",
    "    upperLimit = hsvC[0][0][0] + 10, 255, 255\n",
    "    # the +/-10 defines the range of hues that fall within the limits (the h in hsv)\n",
    "    # the range on saturation and value is much bigger because we are only looking for hue\n",
    "    \n",
    "    lowerLimit = np.array(lowerLimit, dtype=np.uint8)\n",
    "    upperLimit = np.array(upperLimit, dtype=np.uint8)\n",
    "\n",
    "    return lowerLimit, upperLimit"
   ]
  },
  {
   "cell_type": "code",
   "execution_count": 5,
   "id": "c527ce0e-4012-449d-8ed7-60cc52f2c426",
   "metadata": {},
   "outputs": [],
   "source": [
    "yellow = [0, 255, 255] # color in BGR colorspace\n",
    "\n",
    "capture = cv2.VideoCapture(0)\n",
    "while True:\n",
    "    ret, frame = capture.read()\n",
    "\n",
    "    frame_blur = cv2.GaussianBlur(frame, (11, 11), 9)\n",
    "    # blurring the image may help get the desired result, but it can be removed\n",
    "    \n",
    "    image_hsv = cv2.cvtColor(frame_blur, cv2.COLOR_BGR2HSV) # convert to HSV\n",
    "\n",
    "    lowerLimit, upperLimit = get_limits(yellow) # range of hues that we want the software to detect\n",
    "    \n",
    "    mask = cv2.inRange(image_hsv, lowerLimit, upperLimit) # detects objects in color range\n",
    "\n",
    "    '''mask2 = Image.fromarray(mask) # converting mask into Pillow format\n",
    "    box = mask2.getbbox() # adds bounding boxes to mask\n",
    "    if box is not None:\n",
    "        x1, y1, x2, y2 = box\n",
    "        cv2.rectangle(frame, (x1, y1), (x2, y2), (255, 0, 255), 5)'''\n",
    "\n",
    "    contours, hierarchy = cv2.findContours(mask, cv2.RETR_TREE, cv2.CHAIN_APPROX_SIMPLE)\n",
    "\n",
    "    for cnt in contours:\n",
    "        if cv2.contourArea(cnt) > 100:  # only continues if size of the object is large enough (removes noise)\n",
    "            x1, y1, w, h = cv2.boundingRect(cnt) # finds a bounding box for each object\n",
    "            cv2.rectangle(frame, (x1, y1), (x1 + w, y1 + h), (0, 0, 255), 2)\n",
    "    \n",
    "    cv2.imshow('webcam', frame)\n",
    "    cv2.imshow('blur', frame_blur)\n",
    "    cv2.imshow('mask', mask)\n",
    "    if cv2.waitKey(40) & 0xFF == ord(' '):\n",
    "        break  # ends loop when spacebar is pressed\n",
    "\n",
    "capture.release()\n",
    "cv2.destroyAllWindows()  # closes window, only reaches here when spacebar is pressed"
   ]
  },
  {
   "cell_type": "code",
   "execution_count": null,
   "id": "0c19ad28-2014-40ad-aac0-d7728804226d",
   "metadata": {},
   "outputs": [],
   "source": []
  }
 ],
 "metadata": {
  "kernelspec": {
   "display_name": "Python 3 (ipykernel)",
   "language": "python",
   "name": "python3"
  },
  "language_info": {
   "codemirror_mode": {
    "name": "ipython",
    "version": 3
   },
   "file_extension": ".py",
   "mimetype": "text/x-python",
   "name": "python",
   "nbconvert_exporter": "python",
   "pygments_lexer": "ipython3",
   "version": "3.12.4"
  }
 },
 "nbformat": 4,
 "nbformat_minor": 5
}
