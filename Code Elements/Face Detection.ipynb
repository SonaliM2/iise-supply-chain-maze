{
 "cells": [
  {
   "cell_type": "code",
   "execution_count": 1,
   "id": "ca6f1c78-7e7f-4ecb-aae6-6819125507a8",
   "metadata": {},
   "outputs": [],
   "source": [
    "import cv2\n",
    "import numpy as np\n",
    "# pip install mediapipe\n",
    "# pip install msvc-runtime\n",
    "    # open Anaconda Prompt and paste above lines (without '#') to install packages\n",
    "import mediapipe as mp"
   ]
  },
  {
   "cell_type": "code",
   "execution_count": 20,
   "id": "d68a6de9-38b2-459e-82bc-bf80d8d22f69",
   "metadata": {},
   "outputs": [],
   "source": [
    "capture = cv2.VideoCapture(0)\n",
    "while True:\n",
    "    ret, frame = capture.read()\n",
    "\n",
    "    if ret == True:    \n",
    "        # detect faces\n",
    "        mp_face_detection = mp.solutions.face_detection\n",
    "    \n",
    "        H, W, _ = frame.shape\n",
    "        \n",
    "        with mp_face_detection.FaceDetection(model_selection=0, min_detection_confidence=0.5) as face_detection:\n",
    "            # model_selection: ranges from 0 to 1, 0: model within 2 meters, 1: model within 5 meters\n",
    "            # min_detection_confidence: confidence level required before telling us a face is detected\n",
    "            frame_rgb = cv2.cvtColor(frame, cv2.COLOR_BGR2RGB)\n",
    "            output = face_detection.process(frame_rgb) # gives us bounding box coordinates of a face\n",
    "    \n",
    "            if output.detections is not None:\n",
    "                for detection in output.detections:\n",
    "                    location_data = detection.location_data\n",
    "                    bbox = location_data.relative_bounding_box # relative bounding box means its not measuring in pixels\n",
    "        \n",
    "                    x1, y1, w, h = bbox.xmin, bbox.ymin, bbox.width, bbox.height\n",
    "    \n",
    "                    # change bounding box from relative to actual pixel sizes\n",
    "                    x1 = int(x1 * W)\n",
    "                    y1 = int(y1 * H)\n",
    "                    w = int(w * W)\n",
    "                    h = int(h * H)\n",
    "    \n",
    "                    frame = cv2.rectangle(frame, (x1, y1), (x1 + w, y1 + h), (0, 0, 255), 10)\n",
    "\n",
    "    cv2.imshow('webcam', frame)\n",
    "    if cv2.waitKey(40) & 0xFF == ord(' '):\n",
    "        break  # ends loop when spacebar is pressed\n",
    "\n",
    "capture.release()\n",
    "cv2.destroyAllWindows()  # closes window, only reaches here when spacebar is pressed"
   ]
  },
  {
   "cell_type": "code",
   "execution_count": null,
   "id": "13bc1d49-1714-4670-8253-e751b884feef",
   "metadata": {},
   "outputs": [],
   "source": []
  }
 ],
 "metadata": {
  "kernelspec": {
   "display_name": "Python 3 (ipykernel)",
   "language": "python",
   "name": "python3"
  },
  "language_info": {
   "codemirror_mode": {
    "name": "ipython",
    "version": 3
   },
   "file_extension": ".py",
   "mimetype": "text/x-python",
   "name": "python",
   "nbconvert_exporter": "python",
   "pygments_lexer": "ipython3",
   "version": "3.12.4"
  }
 },
 "nbformat": 4,
 "nbformat_minor": 5
}
