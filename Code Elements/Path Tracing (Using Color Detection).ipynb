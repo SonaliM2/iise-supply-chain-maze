{
 "cells": [
  {
   "cell_type": "markdown",
   "id": "627c21a0-1e27-43b1-9426-221294771829",
   "metadata": {},
   "source": [
    "# Path Tracing"
   ]
  },
  {
   "cell_type": "code",
   "execution_count": 2,
   "id": "de187874-2cf3-43f4-9268-73cf75333f1d",
   "metadata": {},
   "outputs": [],
   "source": [
    "import cv2\n",
    "import numpy as np\n",
    "# pip install Pillow\n",
    "    # open Anaconda Prompt and paste above line (without '#') to install package\n",
    "from PIL import Image"
   ]
  },
  {
   "cell_type": "code",
   "execution_count": 3,
   "id": "9b487a60-f366-4bdf-9917-7e3fb957551e",
   "metadata": {},
   "outputs": [],
   "source": [
    "# function that gives a range on hues given a color\n",
    "def get_limits(color):\n",
    "    c = np.uint8([[color]])\n",
    "    hsvC = cv2.cvtColor(c, cv2.COLOR_BGR2HSV)\n",
    "    \n",
    "    lowerLimit = hsvC[0][0][0] - 10, 100, 100\n",
    "    upperLimit = hsvC[0][0][0] + 10, 255, 255\n",
    "    # the +/-10 defines the range of hues that fall within the limits (the h in hsv)\n",
    "    # the range on saturation and value is much bigger because we are only looking for hue\n",
    "    \n",
    "    lowerLimit = np.array(lowerLimit, dtype=np.uint8)\n",
    "    upperLimit = np.array(upperLimit, dtype=np.uint8)\n",
    "\n",
    "    return lowerLimit, upperLimit"
   ]
  },
  {
   "cell_type": "code",
   "execution_count": 4,
   "id": "c527ce0e-4012-449d-8ed7-60cc52f2c426",
   "metadata": {},
   "outputs": [],
   "source": [
    "color = [0, 255, 255] # color in BGR colorspace\n",
    "\n",
    "first = False\n",
    "firstFrame = 0\n",
    "points = list() # array that will hold locations of detected colors\n",
    "pointsPrev = list() # array that will hold the locations of detected colors from the previous frame\n",
    "capture = cv2.VideoCapture(0)\n",
    "while True:\n",
    "    ret, frame = capture.read()\n",
    "\n",
    "    if (first == False): # runs only once, gets the first frame of the webcam video so we can draw the path on it\n",
    "        firstFrame = frame\n",
    "        first = True\n",
    "    \n",
    "    frame_blur = cv2.GaussianBlur(frame, (11, 11), 17)\n",
    "    # blurring the image may help get the desired result, but it can be removed\n",
    "    \n",
    "    frame_hsv = cv2.cvtColor(frame_blur, cv2.COLOR_BGR2HSV) # convert to HSV\n",
    "\n",
    "    lowerLimit, upperLimit = get_limits(color) # range of hues that we want the software to detect\n",
    "    \n",
    "    mask = cv2.inRange(frame_hsv, lowerLimit, upperLimit) # detects objects in color range\n",
    "\n",
    "    contours, hierarchy = cv2.findContours(mask, cv2.RETR_TREE, cv2.CHAIN_APPROX_SIMPLE)\n",
    "\n",
    "    pointsPrev = points \n",
    "    points = list() # empty the array to add new points\n",
    "    \n",
    "    for cnt in contours:\n",
    "        if cv2.contourArea(cnt) > 100:  # only continues if size of the object is large enough (removes noise)\n",
    "            x1, y1, w, h = cv2.boundingRect(cnt) # finds a bounding box for each object\n",
    "            cv2.rectangle(frame, (x1, y1), (x1 + w, y1 + h), (0, 0, 255), 2)\n",
    "\n",
    "            points.append([int(x1 + 0.5*w), int(y1 + 0.5*h)]) # adds center point of bounding to list (for each bbox)\n",
    "            # points.append([int(x1 + 0.5*w), y1]) # adds bottom-center point of bounding to list (for each bbox) (alternative to above line)\n",
    "            # need to cast int() because you can't have half a frame\n",
    "\n",
    "    for i in pointsPrev:\n",
    "        for j in points:\n",
    "            if ( np.sqrt( (i[0] - j[0])**2 + (i[1] - j[1])**2 ) < 50 ):     # will draw a line a point from the current frame and a point from the previous frame are close enough        \n",
    "                cv2.line(firstFrame, (i[0], i[1]), (j[0], j[1]), color, 3)\n",
    "                break  # break so two lines don't get drawn from the same point\n",
    "    \n",
    "    cv2.imshow('webcam', frame)\n",
    "    cv2.imshow('blur', frame_blur)\n",
    "    cv2.imshow('mask', mask)\n",
    "    cv2.imshow('path', firstFrame)\n",
    "    if cv2.waitKey(40) & 0xFF == ord(' '):\n",
    "        break  # ends loop when spacebar is pressed\n",
    "\n",
    "capture.release()\n",
    "cv2.destroyAllWindows()  # closes window, only reaches here when spacebar is pressed"
   ]
  },
  {
   "cell_type": "code",
   "execution_count": null,
   "id": "0c19ad28-2014-40ad-aac0-d7728804226d",
   "metadata": {},
   "outputs": [],
   "source": []
  }
 ],
 "metadata": {
  "kernelspec": {
   "display_name": "Python 3 (ipykernel)",
   "language": "python",
   "name": "python3"
  },
  "language_info": {
   "codemirror_mode": {
    "name": "ipython",
    "version": 3
   },
   "file_extension": ".py",
   "mimetype": "text/x-python",
   "name": "python",
   "nbconvert_exporter": "python",
   "pygments_lexer": "ipython3",
   "version": "3.12.4"
  }
 },
 "nbformat": 4,
 "nbformat_minor": 5
}
