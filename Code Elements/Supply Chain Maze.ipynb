{
 "cells": [
  {
   "cell_type": "markdown",
   "id": "c6c2892a-4c22-4281-b810-8b38c5f74b61",
   "metadata": {},
   "source": [
    "# Supply Chain Maze"
   ]
  },
  {
   "cell_type": "code",
   "execution_count": 12,
   "id": "f900a801-261e-4c6e-8853-1d7a0c2e780b",
   "metadata": {},
   "outputs": [],
   "source": [
    "import cv2\n",
    "import numpy as np\n",
    "# pip install Pillow\n",
    "    # open Anaconda Prompt and paste above line (without '#') to install package\n",
    "from PIL import Image"
   ]
  },
  {
   "cell_type": "code",
   "execution_count": 14,
   "id": "63ca1c8c-77f2-4aec-ae03-d9dba6228c31",
   "metadata": {},
   "outputs": [],
   "source": [
    "# function that gives a range on hues given a color\n",
    "def get_limits(color):\n",
    "    c = np.uint8([[color]])\n",
    "    hsvC = cv2.cvtColor(c, cv2.COLOR_BGR2HSV)\n",
    "    \n",
    "    lowerLimit = hsvC[0][0][0] - 10, 100, 100\n",
    "    upperLimit = hsvC[0][0][0] + 10, 255, 255\n",
    "    # the +/-10 defines the range of hues that fall within the limits (the h in hsv)\n",
    "    # the range on saturation and value is much bigger because we are only looking for hue\n",
    "    \n",
    "    lowerLimit = np.array(lowerLimit, dtype=np.uint8)\n",
    "    upperLimit = np.array(upperLimit, dtype=np.uint8)\n",
    "\n",
    "    return lowerLimit, upperLimit"
   ]
  },
  {
   "cell_type": "code",
   "execution_count": null,
   "id": "d190fc28-8395-4eff-928c-567bbf738d52",
   "metadata": {},
   "outputs": [],
   "source": [
    "color = [0, 255, 255] # color in BGR colorspace\n",
    "detection_size = 500              # size of detection required to mark color as an object\n",
    "capture = cv2.VideoCapture(0)     # picks camera to use (usually 0 or 1)\n",
    "\n",
    "first = False\n",
    "count = 0\n",
    "                     # node   s  1  2  3  4  5  6  7  e\n",
    "adjacency_matrix = np.array([[0, 1, 1, 0, 0, 0, 0, 0, 0],  # start\n",
    "                             [1, 0, 1, 1, 0, 0, 0, 0, 0],  # 1\n",
    "                             [1, 1, 0, 0, 1, 1, 0, 0, 0],  # 2\n",
    "                             [0, 1, 0, 0, 1, 0, 1, 1, 0],  # 3\n",
    "                             [0, 0, 1, 1, 0, 1, 0, 0, 0],  # 4\n",
    "                             [0, 0, 1, 0, 1, 0, 0, 1, 0],  # 5\n",
    "                             [0, 0, 0, 1, 0, 0, 0, 1, 1],  # 6\n",
    "                             [0, 0, 0, 1, 0, 1, 1, 0, 1],  # 7\n",
    "                             [0, 0, 0, 0, 0, 0, 1, 1, 0]])  # end\n",
    "                        # a '1' indicates that two nodes (corresponing to the row and column) are adjacent\n",
    "while True:\n",
    "    ret, frame = capture.read()\n",
    "    frame = cv2.flip(frame, 1)"
   ]
  },
  {
   "cell_type": "code",
   "execution_count": null,
   "id": "b852bc77-0bf8-42a9-8d04-75f1954ab3b3",
   "metadata": {},
   "outputs": [],
   "source": []
  }
 ],
 "metadata": {
  "kernelspec": {
   "display_name": "Python 3 (ipykernel)",
   "language": "python",
   "name": "python3"
  },
  "language_info": {
   "codemirror_mode": {
    "name": "ipython",
    "version": 3
   },
   "file_extension": ".py",
   "mimetype": "text/x-python",
   "name": "python",
   "nbconvert_exporter": "python",
   "pygments_lexer": "ipython3",
   "version": "3.12.4"
  }
 },
 "nbformat": 4,
 "nbformat_minor": 5
}
